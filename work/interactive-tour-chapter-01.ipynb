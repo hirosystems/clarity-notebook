{
 "cells": [
  {
   "cell_type": "markdown",
   "metadata": {},
   "source": [
    "# Clarity - Interactive Tour\n",
    "\n",
    "*Clarity is a **decidable** smart contract language that optimizes for predictability and security, designed by Blockstack. Smart contracts allow developers to encode essential business logic on a blockchain.*\n",
    "\n",
    "*This notebook is part of a suite of noteboooks, designed for helping developpers getting started with Clarity.*\n",
    "\n",
    "\n",
    "***\n",
    "**This notebook was designed for encouraging experimentation. Feel free to execute the snippets, tweak values, refactor with your own Clarity code.**\n",
    "***\n"
   ]
  },
  {
   "cell_type": "markdown",
   "metadata": {},
   "source": [
    "# Chapter 1 - Basics\n",
    "\n",
    "In this chapter, we will dissect some hello world programs and learn the basics of Clarity and its functional programming syntax. We will learn how to define a function and the fundamental control flow functions.\n",
    "\n",
    "\n",
    "## 1) Hello World 🌍🌎🌏\n",
    "\n",
    "Let's dive in by dissecting a classical **Hello world**.\n",
    "\n",
    "**How to use this notebook?**\n",
    "\n",
    "Select the following snippet, and press the RUN button in the toolbar above. This will execute the snippet and you will be able to see the result of the evaluation."
   ]
  },
  {
   "cell_type": "code",
   "execution_count": 3,
   "metadata": {},
   "outputs": [
    {
     "data": {
      "text/plain": [
       "\u001b[1;32m\"Hello world\"\u001b[0m"
      ]
     },
     "execution_count": 3,
     "metadata": {},
     "output_type": "execute_result"
    }
   ],
   "source": [
    "(print \"Hello world\")"
   ]
  },
  {
   "cell_type": "markdown",
   "metadata": {},
   "source": [
    "The first thing that you'll probably notice are the parenthesis. Let's push this experimentation further and explore how functions calls can be chained in this new paradigm."
   ]
  },
  {
   "cell_type": "code",
   "execution_count": null,
   "metadata": {},
   "outputs": [],
   "source": [
    "(print (concat \"Hello \" \"world\"))"
   ]
  },
  {
   "cell_type": "markdown",
   "metadata": {},
   "source": [
    "Let's go even further, and explore a few different ways to write a program that would conditionally write one string, or another."
   ]
  },
  {
   "cell_type": "code",
   "execution_count": null,
   "metadata": {},
   "outputs": [],
   "source": [
    "(if true\n",
    "    (print \"Hello world\")\n",
    "    (print \"Hello you\"))"
   ]
  },
  {
   "cell_type": "code",
   "execution_count": null,
   "metadata": {},
   "outputs": [],
   "source": [
    "(print \n",
    "    (if true \n",
    "        \"Hello world\"\n",
    "        \"Hello you\"))"
   ]
  },
  {
   "cell_type": "code",
   "execution_count": null,
   "metadata": {},
   "outputs": [],
   "source": [
    "(print (concat \"Hello \" \n",
    "    (if true \"world\" \"you\")))"
   ]
  },
  {
   "cell_type": "markdown",
   "metadata": {},
   "source": [
    "## 2) Program structure\n"
   ]
  },
  {
   "cell_type": "markdown",
   "metadata": {},
   "source": [
    "Let's talk about programs structure in Clarity."
   ]
  },
  {
   "cell_type": "code",
   "execution_count": 20,
   "metadata": {},
   "outputs": [
    {
     "data": {
      "text/plain": [
       "\u001b[1;32m\"Hello world\"\u001b[0m"
      ]
     },
     "execution_count": 20,
     "metadata": {},
     "output_type": "execute_result"
    }
   ],
   "source": [
    "(print (concat \"Hello \" \"world\"))"
   ]
  },
  {
   "cell_type": "markdown",
   "metadata": {},
   "source": [
    "Clarity programs can contain free statements, like the one above, along with functions definitions. \n",
    "In order to keep things simple, we will only introduce private functions, for now, and dedicate a chapter to the different kind of functions later on.\n",
    "\n",
    "Let's look at a private function definition:"
   ]
  },
  {
   "cell_type": "code",
   "execution_count": null,
   "metadata": {},
   "outputs": [],
   "source": [
    "(define-private (add (a int) (b int))\n",
    "  (+ a b))\n",
    "\n",
    "(print (add 1 1))"
   ]
  },
  {
   "cell_type": "markdown",
   "metadata": {},
   "source": [
    "## 3) Control flow functions\n",
    "\n",
    "Let's looks at the different native functions available that will help us structuring the control flow of our Clarity programs."
   ]
  },
  {
   "cell_type": "markdown",
   "metadata": {},
   "source": [
    "### (if bool1 expr1 expr2)\n",
    "\n",
    "The `if` function admits a boolean argument and two expressions\n",
    "which must return the same type. In the case that the boolean input is `true`, the\n",
    "`if` function evaluates and returns `expr1`. If the boolean input is `false`, the\n",
    "`if` function evaluates and returns `expr2`."
   ]
  },
  {
   "cell_type": "code",
   "execution_count": 24,
   "metadata": {},
   "outputs": [
    {
     "data": {
      "text/plain": [
       "\u001b[1;32m2\u001b[0m"
      ]
     },
     "execution_count": 24,
     "metadata": {},
     "output_type": "execute_result"
    }
   ],
   "source": [
    "(if (> 1 2) \n",
    "    1 \n",
    "    2) ;; Returns 2"
   ]
  },
  {
   "cell_type": "markdown",
   "metadata": {},
   "source": [
    "***\n",
    "### (begin expr1 expr2 expr3 ... expr-last)\n",
    "\n",
    "The `begin` function evaluates each of its input expressions, returning the\n",
    "return value of the last such expression."
   ]
  },
  {
   "cell_type": "code",
   "execution_count": 32,
   "metadata": {},
   "outputs": [
    {
     "data": {
      "text/plain": [
       "\u001b[1;32m\"Function call N\"\u001b[0m"
      ]
     },
     "execution_count": 32,
     "metadata": {},
     "output_type": "execute_result"
    }
   ],
   "source": [
    "(begin \n",
    "    (print \"Function call 1\")\n",
    "    (print \"Function call 2\")\n",
    "    (print \"Function call ...\")\n",
    "    (print \"Function call N\"))"
   ]
  },
  {
   "cell_type": "markdown",
   "metadata": {},
   "source": [
    "Note: in this exemple, the string being displayed is the one being returned (\"Function call N\"), however all the statements are being executed"
   ]
  },
  {
   "cell_type": "markdown",
   "metadata": {},
   "source": [
    "***\n",
    "### (asserts! bool-expr thrown-value)\n",
    "\n",
    "The `asserts!` function admits a boolean argument and asserts its evaluation:\n",
    "if bool-expr is `true`, `asserts!` returns `true` and proceeds in the program execution.\n",
    "If the supplied argument is returning a false value, `asserts!` _returns_ `thrown-value` and exits the current\n",
    "control-flow.\n"
   ]
  },
  {
   "cell_type": "code",
   "execution_count": 33,
   "metadata": {},
   "outputs": [
    {
     "ename": "Error",
     "evalue": "\u001b[1;31mRuntime Error: ShortReturn(AssertionFailed(Sequence(String(\"The assertion 1 > 2 is false, aborting\"))))\u001b[0m",
     "output_type": "error",
     "traceback": [
      "\u001b[1;31mRuntime Error: ShortReturn(AssertionFailed(Sequence(String(\"The assertion 1 > 2 is false, aborting\"))))\u001b[0m"
     ]
    }
   ],
   "source": [
    "(begin\n",
    "    (asserts! (> 1 2) \"The assertion 1 > 2 is false, aborting\")\n",
    "    (print \"Message, never displayed\"))"
   ]
  },
  {
   "cell_type": "markdown",
   "metadata": {},
   "source": [
    "That's it, for now! The remaining control flow functions `unwrap-*`, `match` and `try!`, designed for keeping programs clean and simple will be introduced in future chapters."
   ]
  },
  {
   "cell_type": "code",
   "execution_count": null,
   "metadata": {},
   "outputs": [],
   "source": [
    "todo(ludo): Time to exercise!!"
   ]
  }
 ],
 "metadata": {
  "kernelspec": {
   "display_name": "Clarity",
   "language": "clarity",
   "name": "clarity"
  },
  "language_info": {
   "codemirror_mode": "clarity",
   "file_extension": ".clar",
   "mimetype": "text/clarity",
   "name": "Clarity",
   "pygment_lexer": "clarity",
   "version": ""
  }
 },
 "nbformat": 4,
 "nbformat_minor": 4
}
