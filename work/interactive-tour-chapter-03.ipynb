{
 "cells": [
  {
   "cell_type": "markdown",
   "metadata": {},
   "source": [
    "# Clarity - Interactive Tour\n",
    "\n",
    "*Clarity is a **decidable** smart contract language that optimizes for predictability and security, designed by Blockstack. Smart contracts allow developers to encode essential business logic on a blockchain.*\n",
    "\n",
    "*This notebook is part of a suite of noteboooks, designed for helping developpers getting started with Clarity.*\n",
    "\n",
    "\n",
    "***\n",
    "**This notebook was designed for encouraging experimentation. Feel free to execute the snippets, tweak values, refactor with your own Clarity code.**\n",
    "***\n"
   ]
  },
  {
   "cell_type": "markdown",
   "metadata": {},
   "source": [
    "# Chapter 3 - Data storage\n",
    "\n",
    "In this chapter, we will be introducing two primitives for storing, updating and retrieving stateful data in Clarity programs, along with their associated functions."
   ]
  },
  {
   "cell_type": "markdown",
   "metadata": {},
   "source": [
    "## 1 - (define-data-var var-name type value)\n",
    "\n",
    "`define-data-var` is used to define a new persisted variable for use in a smart contract. Such\n",
    "variable are only modifiable by the current smart contract.\n",
    "\n",
    "Persisted variable are defined with a type and a value.\n",
    "\n",
    "Like other kinds of definition statements, `define-data-var` may only be used at the top level of a smart contract\n",
    "definition (i.e., you cannot put a define statement in the middle of a function body).\n"
   ]
  },
  {
   "cell_type": "code",
   "execution_count": null,
   "metadata": {},
   "outputs": [],
   "source": [
    "(define-data-var my-var int 0)\n",
    "\n",
    "(print my-var) ;; returns an error!"
   ]
  },
  {
   "cell_type": "markdown",
   "metadata": {},
   "source": [
    "When executing the snippet above, you will get an error. If you want to manipulate the value behind `my-var`, you need to explicitely do so.\n",
    "\n",
    "Explicit read / write operations can be performed with the functions `var-get` and `var-set`."
   ]
  },
  {
   "cell_type": "markdown",
   "metadata": {},
   "source": [
    "### (var-set var-name expr1)\n",
    "The `var-set` function sets the value associated with the input variable to the\n",
    "inputted value."
   ]
  },
  {
   "cell_type": "markdown",
   "metadata": {},
   "source": [
    "### (var-get var-name)\n",
    "The `var-set` function sets the value associated with the input variable to the\n",
    "inputted value."
   ]
  },
  {
   "cell_type": "code",
   "execution_count": null,
   "metadata": {},
   "outputs": [],
   "source": [
    "(define-data-var my-var int 1)\n",
    "\n",
    "(begin\n",
    "    (var-set my-var 2)\n",
    "    (var-get my-var))"
   ]
  },
  {
   "cell_type": "markdown",
   "metadata": {},
   "source": [
    "***\n",
    "## 2 - (define-map map-name ((key-name-0 key-type-0) ...) ((val-name-0 val-type-0) ...))\n",
    "`define-map` is used to define a new datamap for use in a smart contract. Such\n",
    "maps are only modifiable by the current smart contract.\n",
    "\n",
    "Maps are defined with a key tuple type and value tuple type. These are defined using a list\n",
    "of name and type pairs, e.g., a key type might be `((id int))`, which is a tuple with a single \\\"id\\\"\n",
    "field of type `int`.\n",
    "\n",
    "Like other kinds of definition statements, `define-map` may only be used at the top level of a smart contract\n",
    "definition (i.e., you cannot put a define statement in the middle of a function body)"
   ]
  },
  {
   "cell_type": "code",
   "execution_count": null,
   "metadata": {},
   "outputs": [],
   "source": [
    "(define-map kv-store ((key (string-ascii 8))) ((value (string-ascii 32))))"
   ]
  },
  {
   "cell_type": "markdown",
   "metadata": {},
   "source": [
    "Clarity's language reference includes the following methods for manipulating this stateful data structures.\n",
    "\n"
   ]
  },
  {
   "cell_type": "markdown",
   "metadata": {},
   "source": [
    "### (map-insert map-name key-tuple value-tuple)\n",
    "\n",
    "The `map-insert` function sets the value associated with the input key to the\n",
    "inputted value if and only if there is not already a value associated with the key in the map.\n",
    "If an insert occurs, the function returns `true`. If a value already existed for\n",
    "this key in the data map, the function returns `false`.\n",
    "\n",
    "Note: the `value-tuple` requires 1 additional byte for storage in the materialized blockchain state,\n",
    "and therefore the maximum size of a value that may be inserted into a map is MAX_CLARITY_VALUE - 1.\n"
   ]
  },
  {
   "cell_type": "code",
   "execution_count": null,
   "metadata": {},
   "outputs": [],
   "source": [
    "(define-map users ((id int)) ((first-name (string-ascii 16)) (last-name (string-ascii 16))))\n",
    "\n",
    "(begin\n",
    "    ;; Insert once\n",
    "    (map-insert users \n",
    "        { id: 1 } \n",
    "        { first-name: \"satoshi\", last-name: \"nakamoto\" }) ;; Returns true\n",
    "    ;; Insert twice\n",
    "    (map-insert users \n",
    "        { id: 1 }\n",
    "        { first-name: \"satoshi\", last-name: \"nakamoto\" })) ;; Returns false"
   ]
  },
  {
   "cell_type": "markdown",
   "metadata": {},
   "source": [
    "***\n",
    "### (map-get? map-name key-tuple)\n",
    "The `map-get?` function looks up and returns an entry from a contract's data map.\n",
    "The value is looked up using `key-tuple`.\n",
    "If there is no value associated with that key in the data map, the function returns a `none` option. Otherwise,\n",
    "it returns `(some value)`."
   ]
  },
  {
   "cell_type": "code",
   "execution_count": null,
   "metadata": {},
   "outputs": [],
   "source": [
    "(define-map users ((id int)) ((first-name (string-ascii 16)) (last-name (string-ascii 16))))\n",
    "\n",
    "(begin\n",
    "    ;; Insert\n",
    "    (map-insert users \n",
    "        { id: 1 } \n",
    "        { first-name: \"satoshi\", last-name: \"nakamoto\" }) ;; Returns true\n",
    "    ;; Retrieve\n",
    "    (print (list\n",
    "        (map-get? users { id: 1 })\n",
    "        (map-get? users { id: 2 }))))"
   ]
  },
  {
   "cell_type": "markdown",
   "metadata": {},
   "source": [
    "***\n",
    "### (map-set map-name key-tuple value-tuple)\n",
    "The `map-set` function sets the value associated with the input key to the\n",
    "inputted value. This function performs a _blind_ update; whether or not a value is already associated\n",
    "with the key, the function overwrites that existing association.\n",
    "\n",
    "Note: the `value-tuple` requires 1 additional byte for storage in the materialized blockchain state,\n",
    "and therefore the maximum size of a value that may be inserted into a map is MAX_CLARITY_VALUE - 1."
   ]
  },
  {
   "cell_type": "code",
   "execution_count": null,
   "metadata": {},
   "outputs": [],
   "source": [
    "(define-map users ((id int)) ((first-name (string-ascii 16)) (last-name (string-ascii 16))))\n",
    "\n",
    "(begin\n",
    "    ;; Insert\n",
    "    (map-set users \n",
    "        { id: 1 } \n",
    "        { first-name: \"satoshi\", last-name: \"nakamoto\" }) ;; Returns true\n",
    "    ;; Retrieve\n",
    "    (print (list\n",
    "        (map-get? users { id: 1 })\n",
    "        (map-get? users { id: 2 }))))"
   ]
  },
  {
   "cell_type": "markdown",
   "metadata": {},
   "source": [
    "***\n",
    "### (map-delete map-name key-tuple)\n",
    "The `map-delete` function removes the value associated with the input key for\n",
    "the given map. If an item exists and is removed, the function returns `true`.\n",
    "If a value did not exist for this key in the data map, the function returns `false`."
   ]
  },
  {
   "cell_type": "code",
   "execution_count": null,
   "metadata": {},
   "outputs": [],
   "source": [
    "(define-map users ((id int)) ((first-name (string-ascii 16)) (last-name (string-ascii 16))))\n",
    "\n",
    "(begin\n",
    "    ;; Insert\n",
    "    (map-set users \n",
    "        { id: 1 } \n",
    "        { first-name: \"satoshi\", last-name: \"nakamoto\" }) ;; Returns true\n",
    "    ;; Abort execution if unable to retrieve Satoshi\n",
    "    (try! (map-get? users { id: 1 }))\n",
    "    (map-delete users { id: 1 })\n",
    "    (print (map-get? users { id: 1 })))"
   ]
  }
 ],
 "metadata": {
  "kernelspec": {
   "display_name": "Clarity",
   "language": "clarity",
   "name": "clarity"
  },
  "language_info": {
   "codemirror_mode": "clarity",
   "file_extension": ".clar",
   "mimetype": "text/clarity",
   "name": "Clarity",
   "pygment_lexer": "clarity",
   "version": ""
  }
 },
 "nbformat": 4,
 "nbformat_minor": 4
}
