{
 "cells": [
  {
   "cell_type": "markdown",
   "metadata": {},
   "source": [
    "# Clarity - Interactive Tour\n",
    "\n",
    "*Clarity is a **decidable** smart contract language that optimizes for predictability and security, designed by Blockstack. Smart contracts allow developers to encode essential business logic on a blockchain.*\n",
    "\n",
    "*This notebook is part of a suite of noteboooks, designed for helping developpers getting started with Clarity.*\n",
    "\n",
    "\n",
    "***\n",
    "**This notebook was designed for encouraging experimentation. Feel free to execute the snippets, tweak values, refactor with your own Clarity code.**\n",
    "***\n"
   ]
  },
  {
   "cell_type": "markdown",
   "metadata": {},
   "source": [
    "# Chapter 9 - Best practices and recommandations\n",
    "\n",
    "In this chapter, we will learn about smart contracts best practices. We will be suggesting design patterns and recommandations aiming at maximizing security."
   ]
  }
 ],
 "metadata": {
  "kernelspec": {
   "display_name": "Clarity",
   "language": "clarity",
   "name": "clarity"
  },
  "language_info": {
   "codemirror_mode": "clarity",
   "file_extension": ".clar",
   "mimetype": "text/clarity",
   "name": "Clarity",
   "pygment_lexer": "clarity",
   "version": ""
  }
 },
 "nbformat": 4,
 "nbformat_minor": 4
}
