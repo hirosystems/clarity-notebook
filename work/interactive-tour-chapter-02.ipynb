{
 "cells": [
  {
   "cell_type": "markdown",
   "metadata": {},
   "source": [
    "# Clarity - Interactive Tour\n",
    "\n",
    "*Clarity is a **decidable** smart contract language that optimizes for predictability and security, designed by Blockstack. Smart contracts allow developers to encode essential business logic on a blockchain.*\n",
    "\n",
    "*This notebook is part of a suite of noteboooks, designed for helping developpers getting started with Clarity.*\n",
    "\n",
    "\n",
    "***\n",
    "**This notebook was designed for encouraging experimentation. Feel free to execute the snippets, tweak values, refactor with your own Clarity code.**\n",
    "***\n"
   ]
  },
  {
   "cell_type": "markdown",
   "metadata": {},
   "source": [
    "# Chapter 2 - Data types\n",
    "\n",
    "In this chapter, we will gradually learn about the data types powering Clarity, from the most basic ones, to the most sophisticated. This chapter will gives us the fundamental keys to approach the next chapters."
   ]
  },
  {
   "cell_type": "markdown",
   "metadata": {},
   "source": [
    "## 1) Primitive types\n",
    "\n",
    "Let's look at a first set of types natively available.\n"
   ]
  },
  {
   "cell_type": "markdown",
   "metadata": {},
   "source": [
    "### bool\n",
    "\n",
    "The bool type is a datatype which can be either `true` or `false`. It is used in comparisons and bitwise operations like `if`, `and`, `not`, `or`, etc."
   ]
  },
  {
   "cell_type": "code",
   "execution_count": 63,
   "metadata": {},
   "outputs": [
    {
     "data": {
      "text/plain": [
       "\u001b[1;32mfalse\u001b[0m"
      ]
     },
     "execution_count": 63,
     "metadata": {},
     "output_type": "execute_result"
    }
   ],
   "source": [
    "(print (is-eq true false))"
   ]
  },
  {
   "cell_type": "markdown",
   "metadata": {},
   "source": [
    "***\n",
    "### integer\n",
    "\n",
    "The signed integer types are encoded on 128 bits. As a result, minimum is -(2^127), and max is 2^127-1.\n",
    "Both overflow and underflows emit exceptions and abort execution."
   ]
  },
  {
   "cell_type": "code",
   "execution_count": 64,
   "metadata": {},
   "outputs": [
    {
     "data": {
      "text/plain": [
       "\u001b[1;32m1\u001b[0m"
      ]
     },
     "execution_count": 64,
     "metadata": {},
     "output_type": "execute_result"
    }
   ],
   "source": [
    "(print 1)"
   ]
  },
  {
   "cell_type": "markdown",
   "metadata": {},
   "source": [
    "***\n",
    "### unsigned integer\n",
    "\n",
    "The unsigned integer types are encoded on 128 bits. As a result, minimum is 0, and max is 2^128-1.\n",
    "Both overflow and underflows emit exceptions and abort execution."
   ]
  },
  {
   "cell_type": "code",
   "execution_count": 65,
   "metadata": {},
   "outputs": [
    {
     "data": {
      "text/plain": [
       "\u001b[1;32mu1\u001b[0m"
      ]
     },
     "execution_count": 65,
     "metadata": {},
     "output_type": "execute_result"
    }
   ],
   "source": [
    "(print u1) "
   ]
  },
  {
   "cell_type": "markdown",
   "metadata": {},
   "source": [
    "***\n",
    "### buffer\n",
    "\n",
    "The buffer type is used to represent a fixed-length sequence of bytes.  "
   ]
  },
  {
   "cell_type": "code",
   "execution_count": 66,
   "metadata": {},
   "outputs": [
    {
     "data": {
      "text/plain": [
       "\u001b[1;32m0x0123456789abcdef\u001b[0m"
      ]
     },
     "execution_count": 66,
     "metadata": {},
     "output_type": "execute_result"
    }
   ],
   "source": [
    "(print 0x0123456789abcdef)"
   ]
  },
  {
   "cell_type": "markdown",
   "metadata": {},
   "source": [
    "***\n",
    "### ascii string\n",
    "\n",
    "The ascii string type is used to represent a fixed sequence of printable ASCII characters. This includes:\n",
    "\n",
    "- ASCII Alphanumeric characters\n",
    "- Whitespace characters: `'\\t' '\\n' '\\x0C' '\\r' ' '`\n",
    "- Punctuation: `! \" # $ % & ' ( ) * + , - . / : ; < = > ? @ [ \\ ] ^ _{ | } ~`\n"
   ]
  },
  {
   "cell_type": "code",
   "execution_count": 67,
   "metadata": {},
   "outputs": [
    {
     "data": {
      "text/plain": [
       "\u001b[1;32m\"Hello world\"\u001b[0m"
      ]
     },
     "execution_count": 67,
     "metadata": {},
     "output_type": "execute_result"
    }
   ],
   "source": [
    "(print \"Hello world\") "
   ]
  },
  {
   "cell_type": "markdown",
   "metadata": {},
   "source": [
    "***\n",
    "### utf8 string\n",
    "\n",
    "The utf8 string type is used to represent a fixed sequence of printable UTF8 characters. More specifically, since 'character' isn't a well-defined concept in Unicode, char is a 'Unicode scalar value'.\n"
   ]
  },
  {
   "cell_type": "code",
   "execution_count": 82,
   "metadata": {},
   "outputs": [
    {
     "data": {
      "text/plain": [
       "\u001b[1;32mu1\u001b[0m"
      ]
     },
     "execution_count": 82,
     "metadata": {},
     "output_type": "execute_result"
    }
   ],
   "source": [
    "(print (len u\"\\u{1F436}\")) ;; the len of a fox emoticon is 1"
   ]
  },
  {
   "cell_type": "markdown",
   "metadata": {},
   "source": [
    "***\n",
    "### principal\n",
    "\n",
    "The principal type is used to represent STX address."
   ]
  },
  {
   "cell_type": "markdown",
   "metadata": {},
   "source": [
    "## 2) Declaring constants\n",
    "\n",
    "When working with Clarity, developers are working with immutable data. \n",
    "Once bound to a name, a value won't and can't be mutated.\n",
    "We will see in the next chapter that some functions can be used for persisting and saving states."
   ]
  },
  {
   "cell_type": "markdown",
   "metadata": {},
   "source": [
    "### (define-constant name expression)\n",
    "\n",
    "`define-constant` is used to define a private constant value in a smart contract.\n",
    "The expression passed into the definition is evaluated at contract launch, in the order that it is\n",
    "supplied in the contract. This can lead to undefined function or undefined variable errors in the\n",
    "event that a function or variable used in the expression has not been defined before the constant.\n",
    "\n",
    "Like other kinds of definition statements, `define-constant` may only be used at the top level of a smart contract\n",
    "definition (i.e., you cannot put a define statement in the middle of a function body)."
   ]
  },
  {
   "cell_type": "code",
   "execution_count": 13,
   "metadata": {},
   "outputs": [
    {
     "data": {
      "text/plain": [
       "\u001b[1;32m4\u001b[0m"
      ]
     },
     "execution_count": 13,
     "metadata": {},
     "output_type": "execute_result"
    }
   ],
   "source": [
    "(define-constant my-constant 4)\n",
    "\n",
    "(print my-constant) ;; returns 4"
   ]
  },
  {
   "cell_type": "markdown",
   "metadata": {},
   "source": [
    "***\n",
    "### (let ((name1 expr1) (name2 expr2) ...) expr-body1 expr-body2 ... expr-body-last)\n",
    "The `let` function accepts a list of `variable name` and `expression` pairs,\n",
    "evaluating each expression and _binding_ it to the corresponding variable name. The _context_\n",
    "created by this set of bindings is used for evaluating its body expressions. The let expression returns the value of the last such body expression.\n",
    "\n",
    "The `let` construct presents some complexity at first sight, however it is the backbone for contracts in Clarity. Stay put, and let's look at a few instanciations and usages of this function."
   ]
  },
  {
   "cell_type": "code",
   "execution_count": 3,
   "metadata": {},
   "outputs": [
    {
     "data": {
      "text/plain": [
       "\u001b[1;32m\"Hello\"\u001b[0m"
      ]
     },
     "execution_count": 3,
     "metadata": {},
     "output_type": "execute_result"
    }
   ],
   "source": [
    "(let ((str1 \"Hello\"))\n",
    "    (print str1))"
   ]
  },
  {
   "cell_type": "code",
   "execution_count": 5,
   "metadata": {},
   "outputs": [
    {
     "data": {
      "text/plain": [
       "\u001b[1;32m\"Hello world\"\u001b[0m"
      ]
     },
     "execution_count": 5,
     "metadata": {},
     "output_type": "execute_result"
    }
   ],
   "source": [
    "(let ((str1 \"Hello\")\n",
    "      (str2 \" world\"))\n",
    "    (print (concat str1 str2)))"
   ]
  },
  {
   "cell_type": "code",
   "execution_count": 7,
   "metadata": {},
   "outputs": [
    {
     "data": {
      "text/plain": [
       "\u001b[1;32m\"Hello world\"\u001b[0m"
      ]
     },
     "execution_count": 7,
     "metadata": {},
     "output_type": "execute_result"
    }
   ],
   "source": [
    "(let ((str1 \"Hello\")\n",
    "      (str2 \" world\"))\n",
    "    (asserts! (is-eq str1 \"Hello\") \"Error\")\n",
    "    (asserts! (is-eq str2 \" world\") \"Error\")\n",
    "    (print (concat str1 str2)))"
   ]
  },
  {
   "cell_type": "code",
   "execution_count": 8,
   "metadata": {},
   "outputs": [
    {
     "data": {
      "text/plain": [
       "\u001b[1;32m\"Hello world\"\u001b[0m"
      ]
     },
     "execution_count": 8,
     "metadata": {},
     "output_type": "execute_result"
    }
   ],
   "source": [
    "(let ((str1 \"Hello\")\n",
    "      (str2 \" world\"))\n",
    "    (let ((str3 (concat str1 str2)))\n",
    "        (print str3)))"
   ]
  },
  {
   "cell_type": "markdown",
   "metadata": {},
   "source": [
    "todo(ludo): conclusion"
   ]
  },
  {
   "cell_type": "markdown",
   "metadata": {},
   "source": [
    "## 3) Compositioning types into structures\n",
    "\n",
    "Programmers can structure data types using tuple constructs.\n",
    "The syntax is the following:"
   ]
  },
  {
   "cell_type": "code",
   "execution_count": 16,
   "metadata": {},
   "outputs": [
    {
     "data": {
      "text/plain": [
       "\u001b[1;32m(tuple (first-name \"satoshi\") (last-name \"nakamoto\"))\u001b[0m"
      ]
     },
     "execution_count": 16,
     "metadata": {},
     "output_type": "execute_result"
    }
   ],
   "source": [
    "(print {\n",
    "    first-name: \"satoshi\", \n",
    "    last-name: \"nakamoto\"\n",
    "})"
   ]
  },
  {
   "cell_type": "markdown",
   "metadata": {},
   "source": [
    "This compositions can be nested, for creating complex structures:"
   ]
  },
  {
   "cell_type": "code",
   "execution_count": 18,
   "metadata": {},
   "outputs": [
    {
     "data": {
      "text/plain": [
       "\u001b[1;32m(tuple (person (tuple (first-name \"satoshi\") (last-name \"nakamoto\"))) (wallet (tuple (address SPAXYA5XS51713FDTQ8H94EJ4V579CXMTRNBZKSF))))\u001b[0m"
      ]
     },
     "execution_count": 18,
     "metadata": {},
     "output_type": "execute_result"
    }
   ],
   "source": [
    "(print {\n",
    "    user: {\n",
    "        first-name: \"satoshi\", \n",
    "        last-name: \"nakamoto\"\n",
    "    },\n",
    "    wallet: {\n",
    "        address: 'SPAXYA5XS51713FDTQ8H94EJ4V579CXMTRNBZKSF\n",
    "    }\n",
    "})"
   ]
  },
  {
   "cell_type": "markdown",
   "metadata": {},
   "source": [
    "It's important to note that these structures are considered as any other types, implying that they can be instancianted with the constructs previously explained."
   ]
  },
  {
   "cell_type": "code",
   "execution_count": 20,
   "metadata": {},
   "outputs": [
    {
     "data": {
      "text/plain": [
       "\u001b[1;32m(tuple (first-name \"satoshi\") (last-name \"nakamoto\"))\u001b[0m"
      ]
     },
     "execution_count": 20,
     "metadata": {},
     "output_type": "execute_result"
    }
   ],
   "source": [
    "(define-constant satoshi { first-name: \"satoshi\", last-name: \"nakamoto\" })\n",
    "\n",
    "(print satoshi)"
   ]
  },
  {
   "cell_type": "markdown",
   "metadata": {},
   "source": [
    "Specific fields can be extracted and read from this structures, using the function `get`:\n",
    "\n",
    "### (get key-name tuple)\n",
    "\n",
    "The `get` function fetches the value associated with a given key from the supplied typed tuple.\n",
    "If an `Optional` value is supplied as the inputted tuple, `get` returns an `Optional` type of the specified key in\n",
    "the tuple."
   ]
  },
  {
   "cell_type": "code",
   "execution_count": 27,
   "metadata": {},
   "outputs": [
    {
     "data": {
      "text/plain": [
       "\u001b[1;32m\"satoshi\"\u001b[0m"
      ]
     },
     "execution_count": 27,
     "metadata": {},
     "output_type": "execute_result"
    }
   ],
   "source": [
    "(let ((user { first-name: \"satoshi\", last-name: \"nakamoto\" }))\n",
    "    (print (get first-name user)))"
   ]
  },
  {
   "cell_type": "markdown",
   "metadata": {},
   "source": [
    "## 4) Aggregating types in lists\n",
    "\n",
    "In this section, we will introduce lists at a basic level - this subject will be covered in depth in a dedicated notebook.\n",
    "In order to guarantee termination, lists, in Clarity are constrained and have a static size.\n",
    "\n",
    "The syntax is the following:"
   ]
  },
  {
   "cell_type": "code",
   "execution_count": 4,
   "metadata": {},
   "outputs": [
    {
     "data": {
      "text/plain": [
       "\u001b[1;32m(\"alice\" \"bob\" \"charlie\")\u001b[0m"
      ]
     },
     "execution_count": 4,
     "metadata": {},
     "output_type": "execute_result"
    }
   ],
   "source": [
    "(define-constant my-list (list \"alice\" \"bob\" \"charlie\"))\n",
    "\n",
    "(print my-list)"
   ]
  },
  {
   "cell_type": "markdown",
   "metadata": {},
   "source": [
    "Lists can be nested to construct multi-dimensional vectors:"
   ]
  },
  {
   "cell_type": "code",
   "execution_count": 10,
   "metadata": {},
   "outputs": [
    {
     "data": {
      "text/plain": [
       "\u001b[1;32m((1 0 0) (0 1 0) (0 0 1))\u001b[0m"
      ]
     },
     "execution_count": 10,
     "metadata": {},
     "output_type": "execute_result"
    }
   ],
   "source": [
    "(define-constant my-matrix (list (list 1 0 0) (list 0 1 0) (list 0 0 1)))\n",
    "\n",
    "(print my-matrix)"
   ]
  },
  {
   "cell_type": "markdown",
   "metadata": {},
   "source": [
    "Finally, and as you would expect, tuple-based lists can also be constructed:"
   ]
  },
  {
   "cell_type": "code",
   "execution_count": 84,
   "metadata": {},
   "outputs": [
    {
     "data": {
      "text/plain": [
       "\u001b[1;32m((tuple (first-name \"satoshi\") (last-name \"nakamoto\")) (tuple (first-name \"john\") (last-name \"doe\")))\u001b[0m"
      ]
     },
     "execution_count": 84,
     "metadata": {},
     "output_type": "execute_result"
    }
   ],
   "source": [
    "(define-constant user-1 { first-name: \"satoshi\", last-name: \"nakamoto\" })\n",
    "(define-constant user-2 { first-name: \"john\", last-name: \"doe\" })\n",
    "\n",
    "(print (list user-1 user-2))"
   ]
  },
  {
   "cell_type": "markdown",
   "metadata": {},
   "source": [
    "## 5) The optional type and its associated functions\n",
    "\n",
    "The type `option` represents an optional value: every `option` is either Some and contains a value, or None, and does not.\n",
    "The type Option is an alternative to the concept of `nullable` values in other languages, and was picked over `Null` for the discipline it enforces on the programmation style.\n",
    "\n",
    "Let's look at an example:"
   ]
  },
  {
   "cell_type": "code",
   "execution_count": 32,
   "metadata": {},
   "outputs": [
    {
     "data": {
      "text/plain": [
       "\u001b[1;32m(none (some 30))\u001b[0m"
      ]
     },
     "execution_count": 32,
     "metadata": {},
     "output_type": "execute_result"
    }
   ],
   "source": [
    "(let ((user-1 { first-name: \"satoshi\", last-name: \"nakamoto\", age: none })\n",
    "      (user-2 { first-name: \"john\", last-name: \"doe\", age: (some 30) }))\n",
    "    \n",
    "    ;; Print ages of user-1 and user-2 \n",
    "    (print (list (get age user-1) \n",
    "                 (get age user-2))))"
   ]
  },
  {
   "cell_type": "markdown",
   "metadata": {},
   "source": [
    "Clarity language reference includes a few functions for easing manipulation for this type.\n",
    "\n"
   ]
  },
  {
   "cell_type": "markdown",
   "metadata": {},
   "source": [
    "### (some value)\n",
    "The `some` function constructs a `optional` type from the input value."
   ]
  },
  {
   "cell_type": "code",
   "execution_count": 29,
   "metadata": {},
   "outputs": [
    {
     "data": {
      "text/plain": [
       "\u001b[1;32m(some 1)\u001b[0m"
      ]
     },
     "execution_count": 29,
     "metadata": {},
     "output_type": "execute_result"
    }
   ],
   "source": [
    "(some 1)"
   ]
  },
  {
   "cell_type": "markdown",
   "metadata": {},
   "source": [
    "***\n",
    "### none\n",
    "Represents the _none_ option indicating no value for a given optional (analogous to a null value)."
   ]
  },
  {
   "cell_type": "code",
   "execution_count": 30,
   "metadata": {},
   "outputs": [
    {
     "data": {
      "text/plain": [
       "\u001b[1;32mnone\u001b[0m"
      ]
     },
     "execution_count": 30,
     "metadata": {},
     "output_type": "execute_result"
    }
   ],
   "source": [
    "none"
   ]
  },
  {
   "cell_type": "markdown",
   "metadata": {},
   "source": [
    "***\n",
    "### (is-none value)\n",
    "`is-none` tests a supplied option value, returning `true` if the option value is `(none)`,\n",
    "and `false` if it is a `(some ...)`."
   ]
  },
  {
   "cell_type": "code",
   "execution_count": 33,
   "metadata": {},
   "outputs": [
    {
     "data": {
      "text/plain": [
       "\u001b[1;32m\"Ghost\"\u001b[0m"
      ]
     },
     "execution_count": 33,
     "metadata": {},
     "output_type": "execute_result"
    }
   ],
   "source": [
    "(define-constant satoshi { first-name: \"satoshi\", last-name: \"nakamoto\", ssn: none })\n",
    "\n",
    "(print (if (is-none (get ssn satoshi))\n",
    "        \"Ghost\"\n",
    "        \"Person\"))"
   ]
  },
  {
   "cell_type": "markdown",
   "metadata": {},
   "source": [
    "***\n",
    "### (is-some value)\n",
    "`is-some` tests a supplied option value, returning `true` if the option value is `(some ...)`,\n",
    "and `false` if it is a `none`."
   ]
  },
  {
   "cell_type": "markdown",
   "metadata": {},
   "source": [
    "***\n",
    "### (default-to default-value option-value)\n",
    "\n",
    "The `default-to` function attempts to 'unpack' the second argument: if the argument is\n",
    "a `(some ...)` option, it returns the inner value of the option. If the second argument is a `(none)` value,\n",
    "`default-to` it returns the value of `default-value`."
   ]
  },
  {
   "cell_type": "code",
   "execution_count": 36,
   "metadata": {},
   "outputs": [
    {
     "data": {
      "text/plain": [
       "\u001b[1;32m(0 30)\u001b[0m"
      ]
     },
     "execution_count": 36,
     "metadata": {},
     "output_type": "execute_result"
    }
   ],
   "source": [
    "(let ((user-1 { first-name: \"satoshi\", last-name: \"nakamoto\", age: none })\n",
    "      (user-2 { first-name: \"john\", last-name: \"doe\", age: (some 30) }))\n",
    "    \n",
    "    ;; Print ages of user-1 and user-2 \n",
    "    (print (list (default-to 0 (get age user-1)) \n",
    "                 (default-to 0 (get age user-2)))))"
   ]
  },
  {
   "cell_type": "markdown",
   "metadata": {},
   "source": [
    "Testing for nullability is often use for control flow, early returns and execution abortion. For that reason, Clarity language also includes some control flow related functions."
   ]
  },
  {
   "cell_type": "markdown",
   "metadata": {},
   "source": [
    "***\n",
    "### (unwrap! option-input thrown-value)\n",
    "\n",
    "The `unwrap!` function attempts to 'unpack' the first argument: if the argument is\n",
    "an option type, and the argument is a `(some ...)` option, `unwrap!` returns the inner value of the\n",
    "option. If the supplied argument is a `(none)` value,\n",
    "`unwrap!` _returns_ `thrown-value` from the current function and exits the current control-flow."
   ]
  },
  {
   "cell_type": "code",
   "execution_count": 19,
   "metadata": {},
   "outputs": [
    {
     "data": {
      "text/plain": [
       "\u001b[1;32m\"Good to go\"\u001b[0m"
      ]
     },
     "execution_count": 19,
     "metadata": {},
     "output_type": "execute_result"
    }
   ],
   "source": [
    "(let ((user { first-name: \"satoshi\", last-name: \"nakamoto\", age: (some 30) }))\n",
    "    (unwrap! (get age user) \"Error - age must be provided\")\n",
    "    (print \"Good to go\"))\n"
   ]
  },
  {
   "cell_type": "markdown",
   "metadata": {},
   "source": [
    "***\n",
    "### (try! option-input)\n",
    "The `try!` function attempts to 'unpack' the first argument: if the argument is\n",
    "an option type, and the argument is a `(some ...)` option, `try!` returns the inner value of the\n",
    "option. If the supplied argument is a `none` value,\n",
    "`try!` _returns_ `none` value from the current function and exits the current control-flow."
   ]
  },
  {
   "cell_type": "code",
   "execution_count": 21,
   "metadata": {},
   "outputs": [
    {
     "data": {
      "text/plain": [
       "\u001b[1;32m30\u001b[0m"
      ]
     },
     "execution_count": 21,
     "metadata": {},
     "output_type": "execute_result"
    }
   ],
   "source": [
    "(let ((user { first-name: \"satoshi\", last-name: \"nakamoto\", age: (some 30) }))\n",
    "    (print (try! (get age user))))"
   ]
  },
  {
   "cell_type": "markdown",
   "metadata": {},
   "source": [
    "## 6) The response type and its associated functions\n",
    "\n",
    "Similarly to the type `option`, Clarity introduces the type `response`, used for returning and propagting errors.\n",
    "Response types have two variants, `(ok ...)`, representing success and containing a value, and `(err ...)`, representing error and containing an error value.\n",
    "\n",
    "Let's look at an example:"
   ]
  },
  {
   "cell_type": "code",
   "execution_count": 38,
   "metadata": {},
   "outputs": [
    {
     "data": {
      "text/plain": [
       "\u001b[1;32m((ok 1000) (err \"Failed: not enough funds\"))\u001b[0m"
      ]
     },
     "execution_count": 38,
     "metadata": {},
     "output_type": "execute_result"
    }
   ],
   "source": [
    "(let ((money-transfer-1 (ok 1000))\n",
    "      (money-transfer-2 (err \"Failed: not enough funds\")))\n",
    "    \n",
    "    ;; Print ages of user-1 and user-2 \n",
    "    (print (list money-transfer-1 \n",
    "                 money-transfer-2)))"
   ]
  },
  {
   "cell_type": "markdown",
   "metadata": {},
   "source": [
    "Clarity language reference includes a few functions for easing manipulation for this type."
   ]
  },
  {
   "cell_type": "markdown",
   "metadata": {},
   "source": [
    "### (ok value)\n",
    "The `ok` function constructs a response type from the input value. Use `ok` for\n",
    "creating return values in public functions. An _ok_ value indicates that any database changes during\n",
    "the processing of the function should materialize."
   ]
  },
  {
   "cell_type": "code",
   "execution_count": 25,
   "metadata": {
    "scrolled": true
   },
   "outputs": [
    {
     "data": {
      "text/plain": [
       "\u001b[1;32m(ok 1)\u001b[0m"
      ]
     },
     "execution_count": 25,
     "metadata": {},
     "output_type": "execute_result"
    }
   ],
   "source": [
    "(ok 1)"
   ]
  },
  {
   "cell_type": "markdown",
   "metadata": {},
   "source": [
    "***\n",
    "### (err value)\n",
    "The `err` function constructs a response type from the input value. Use `err` for\n",
    "creating return values in public functions. An _err_ value indicates that any database changes during\n",
    "the processing of the function should be rolled back."
   ]
  },
  {
   "cell_type": "code",
   "execution_count": 26,
   "metadata": {},
   "outputs": [
    {
     "data": {
      "text/plain": [
       "\u001b[1;32m(err 1)\u001b[0m"
      ]
     },
     "execution_count": 26,
     "metadata": {},
     "output_type": "execute_result"
    }
   ],
   "source": [
    "(err 1)"
   ]
  },
  {
   "cell_type": "markdown",
   "metadata": {},
   "source": [
    "***\n",
    "### (is-ok value)\n",
    "`is-ok` tests a supplied response value, returning `true` if the response was `ok`,\n",
    "and `false` if it was an `err`."
   ]
  },
  {
   "cell_type": "code",
   "execution_count": 32,
   "metadata": {},
   "outputs": [
    {
     "data": {
      "text/plain": [
       "\u001b[1;32m(true false)\u001b[0m"
      ]
     },
     "execution_count": 32,
     "metadata": {},
     "output_type": "execute_result"
    }
   ],
   "source": [
    "(print (list \n",
    "    (is-ok (ok 1)) \n",
    "    (is-ok (err 1))))"
   ]
  },
  {
   "cell_type": "markdown",
   "metadata": {},
   "source": [
    "***\n",
    "### (is-err value)\n",
    "`is-err` tests a supplied response value, returning `true` if the response was an `err`,\n",
    "and `false` if it was an `ok`."
   ]
  },
  {
   "cell_type": "code",
   "execution_count": 34,
   "metadata": {},
   "outputs": [
    {
     "data": {
      "text/plain": [
       "\u001b[1;32m(false true)\u001b[0m"
      ]
     },
     "execution_count": 34,
     "metadata": {},
     "output_type": "execute_result"
    }
   ],
   "source": [
    "(print (list \n",
    "    (is-err (ok 1)) \n",
    "    (is-err (err 1))))"
   ]
  },
  {
   "cell_type": "markdown",
   "metadata": {},
   "source": [
    "Testing for responses is often use for control flow, early returns and execution abortion. For that reason, Clarity language also includes some control flow related functions."
   ]
  },
  {
   "cell_type": "markdown",
   "metadata": {},
   "source": [
    "### (try! response-input)\n",
    "The `try!` function attempts to 'unpack' the first argument: if the argument is a response type, and the argument is an `(ok ...)` response, `try!` returns\n",
    " the inner value of the `ok`. If the supplied argument is an `(err ...)`,\n",
    "`try!` _returns_ the `(err ...)` value from the current function and exits the current control-flow."
   ]
  },
  {
   "cell_type": "code",
   "execution_count": 45,
   "metadata": {},
   "outputs": [
    {
     "data": {
      "text/plain": [
       "\u001b[1;32m→ .snippet-1 contract successfully stored. Use (contract-call? ...) for invoking the public functions:\u001b[0m\n",
       "\u001b[1;32m\u001b[0m"
      ]
     },
     "execution_count": 45,
     "metadata": {},
     "output_type": "execute_result"
    }
   ],
   "source": [
    "(define-private (make-transfer (successful bool))\n",
    "    (if successful \n",
    "        (ok 1000) \n",
    "        (err \"Transfer failed\")))\n",
    "\n",
    "(begin\n",
    "    (try! (make-transfer true))\n",
    "    (print \"Transfer successful\"))"
   ]
  },
  {
   "cell_type": "markdown",
   "metadata": {},
   "source": [
    "***\n",
    "### (unwrap! response-input thrown-value)\n",
    "\n",
    "The `unwrap!` function attempts to 'unpack' the first argument: if the argument is a response type, and the argument is an `(ok ...)` response, `unwrap!` returns the inner value of the `ok`. If the supplied argument is an `(err ...)`,\n",
    "`unwrap!` _returns_ `thrown-value` from the current function and exits the current control-flow."
   ]
  },
  {
   "cell_type": "code",
   "execution_count": 57,
   "metadata": {},
   "outputs": [
    {
     "ename": "Error",
     "evalue": "\u001b[1;31mRuntime Error: ShortReturn(ExpectedValue(Response(ResponseData { committed: false, data: Sequence(String(\"Execution halted\")) })))\u001b[0m",
     "output_type": "error",
     "traceback": [
      "\u001b[1;31mRuntime Error: ShortReturn(ExpectedValue(Response(ResponseData { committed: false, data: Sequence(String(\"Execution halted\")) })))\u001b[0m"
     ]
    }
   ],
   "source": [
    "(define-private (make-transfer (successful bool))\n",
    "    (if successful \n",
    "        (ok 1000) \n",
    "        (err \"Transfer failed\")))\n",
    "\n",
    "(begin\n",
    "    (unwrap! (make-transfer false) (err \"Execution halted\"))\n",
    "    (print \"Transfer successful\"))"
   ]
  },
  {
   "cell_type": "markdown",
   "metadata": {},
   "source": [
    "You would use `try!` if you want to throw and cascade an error, and `unwrap!` if you want to override the error being thrown by the expression."
   ]
  },
  {
   "cell_type": "markdown",
   "metadata": {},
   "source": [
    "***\n",
    "### (unwrap-err! response-input thrown-value)\n",
    "The `unwrap-err!` function attempts to 'unpack' the first argument: if the argument\n",
    "is an `(err ...)` response, `unwrap-err!` returns the inner value of the `err`.\n",
    "If the supplied argument is an `(ok ...)` value,\n",
    "`unwrap-err!` _returns_ `thrown-value` from the current function and exits the current control-flow."
   ]
  },
  {
   "cell_type": "code",
   "execution_count": 61,
   "metadata": {},
   "outputs": [
    {
     "data": {
      "text/plain": [
       "\u001b[1;32m→ .snippet-5 contract successfully stored. Use (contract-call? ...) for invoking the public functions:\u001b[0m\n",
       "\u001b[1;32m\u001b[0m"
      ]
     },
     "execution_count": 61,
     "metadata": {},
     "output_type": "execute_result"
    }
   ],
   "source": [
    "(define-private (make-transfer (successful bool))\n",
    "    (if successful \n",
    "        (ok 1000) \n",
    "        (err \"Transfer failed\")))\n",
    "\n",
    "(begin\n",
    "    (unwrap-err! (make-transfer false) (err \"make-transfer should have failed but did succeed\"))\n",
    "    (print \"Transfer not successful - as expected\"))"
   ]
  },
  {
   "cell_type": "markdown",
   "metadata": {},
   "source": [
    "***\n",
    "### (unwrap-panic response-input)\n",
    "\n",
    "The `unwrap` function attempts to 'unpack' its argument: if the argument is\n",
    "an option type, and the argument is a `(some ...)` option, this function returns the inner value of the\n",
    "option. If the argument is a response type, and the argument is an `(ok ...)` response, it returns\n",
    " the inner value of the `ok`. If the supplied argument is either an `(err ...)` or a `(none)` value,\n",
    "`unwrap` throws a runtime error, aborting any further processing of the current transaction."
   ]
  },
  {
   "cell_type": "code",
   "execution_count": 58,
   "metadata": {},
   "outputs": [
    {
     "data": {
      "text/plain": [
       "\u001b[1;32m1\u001b[0m"
      ]
     },
     "execution_count": 58,
     "metadata": {},
     "output_type": "execute_result"
    }
   ],
   "source": [
    "(unwrap-panic (ok 1))"
   ]
  },
  {
   "cell_type": "markdown",
   "metadata": {},
   "source": [
    "***\n",
    "### (unwrap-err-panic response-input)\n",
    "The `unwrap-err` function attempts to 'unpack' the first argument: if the argument\n",
    "is an `(err ...)` response, `unwrap` returns the inner value of the `err`.\n",
    "If the supplied argument is an `(ok ...)` value,\n",
    "`unwrap-err` throws a runtime error, aborting any further processing of the current transaction."
   ]
  },
  {
   "cell_type": "code",
   "execution_count": 83,
   "metadata": {},
   "outputs": [
    {
     "data": {
      "text/plain": [
       "\u001b[1;32m1\u001b[0m"
      ]
     },
     "execution_count": 83,
     "metadata": {},
     "output_type": "execute_result"
    }
   ],
   "source": [
    "(unwrap-err-panic (err 1))"
   ]
  }
 ],
 "metadata": {
  "kernelspec": {
   "display_name": "Clarity",
   "language": "clarity",
   "name": "clarity"
  },
  "language_info": {
   "codemirror_mode": "clarity",
   "file_extension": ".clar",
   "mimetype": "text/clarity",
   "name": "Clarity",
   "pygment_lexer": "clarity",
   "version": ""
  }
 },
 "nbformat": 4,
 "nbformat_minor": 4
}
