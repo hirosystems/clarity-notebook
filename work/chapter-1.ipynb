{
 "cells": [
  {
   "cell_type": "markdown",
   "metadata": {},
   "source": [
    "# Clarity: a language for exploring verifiable software"
   ]
  },
  {
   "cell_type": "markdown",
   "metadata": {},
   "source": [
    "## Chapter 1: Basics"
   ]
  },
  {
   "cell_type": "markdown",
   "metadata": {},
   "source": [
    "### Introduction\n",
    "\n",
    "Clarity is a **decidable** smart contract language that optimizes for predictability and security, designed by Blockstack. Smart contracts allow developers to encode essential business logic on a blockchain. \n",
    "\n",
    "A programming language is decidable if you can know, with certainty, from the code itself what the program will do. Clarity is intentionally Turing incomplete as it avoids `Turing complexity`. This allows for complete static analysis of the entire call graph of a given smart contract. Further, our support for types and type checker can eliminate whole classes of bugs like unintended casts, reentrancy bugs, and reads of uninitialized values.\n"
   ]
  },
  {
   "cell_type": "markdown",
   "metadata": {},
   "source": [
    "### Lesson 1: Hello world 🌍🌎🌏\n",
    "\n",
    "Let's dive in by running the following program. Select the following snippet, and press the **Run** button in the toolbar above.  "
   ]
  },
  {
   "cell_type": "code",
   "execution_count": null,
   "metadata": {
    "scrolled": true
   },
   "outputs": [],
   "source": [
    "(print \"Hello world\")"
   ]
  },
  {
   "cell_type": "markdown",
   "metadata": {},
   "source": [
    "A few things just happened, let's unpack:\n",
    "\n",
    "- **print** is a native function, that can be used for emitting an event categorized in the topic **print**. It also returns the argument being passed.\n",
    "\n",
    "- **\"Hello world\"** is a *literal* used for constructing a value, typed as a **buffer**.\n",
    "\n",
    "When getting executed, the program is returning a few things:\n",
    "\n",
    "- **0x48656c6c6f20776f726c64** is a buffer encoding the **\"Hello world\"** ASCII sequence of characters, in hexadecimal. When displaying hexadecimal bytes, it is common to prefix the sequence with **0x**.\n",
    "\n",
    "| Hexadecimal   | Decimal       | ASCII |\n",
    "| ------------- |:-------------:| -----:|\n",
    "| 0x48          | 72            | H     |\n",
    "| 0x65          | 101           | e     |\n",
    "| 0x6c          | 108           | l     |\n",
    "| ...           | ...           | ...   |\n",
    "\n",
    "\n",
    "- Events emitted returns a list of events emitted during the execution of a given program. We'll see later in this tutorial that a few native functions are emitting events, that can be observed by external programs."
   ]
  },
  {
   "cell_type": "markdown",
   "metadata": {},
   "source": [
    "#### Concatenating buffers\n",
    "\n",
    "Now, let's slightly modify our program, and introduce buffer concatenation. Let's execute the following program, by hitting the **Run** button."
   ]
  },
  {
   "cell_type": "code",
   "execution_count": null,
   "metadata": {},
   "outputs": [],
   "source": [
    "(print \n",
    "  (concat \"Hello \" \"world\"))"
   ]
  },
  {
   "cell_type": "markdown",
   "metadata": {},
   "source": [
    "As you can see, the output of the execution is the same than the one we got before - **0x48656c6c6f20776f726c64**. \n",
    "\n",
    "In this program, instead of passing \"Hello world\" as an argument, we **nested** a function call **concat**, that returns the concatenation of 2 buffers, \"Hello \" and \"world\"."
   ]
  },
  {
   "cell_type": "markdown",
   "metadata": {},
   "source": [
    "#### Binding values\n",
    "\n",
    "Let's increase the complexity, and introduce a fundamental concept: the action of binding values."
   ]
  },
  {
   "cell_type": "code",
   "execution_count": null,
   "metadata": {},
   "outputs": [],
   "source": [
    "(let ((name \"world\"))\n",
    "  (print \n",
    "    (concat \"Hello \" name)))"
   ]
  },
  {
   "cell_type": "markdown",
   "metadata": {},
   "source": [
    "The function **let** is a *variadic* function: it takes a variable list of arguments (at least 2 in this case):\n",
    " - Arg 1: ((name \"world\")): a list of key value couple: `((name \"john doe\") (age 30))`, used for creating and assigning values to some **immutable** constants.\n",
    " - Arg 2: (print ...): function call, that will have the constants bound by the let statement in its scope.\n",
    " - Arg N: Additional function calls.\n",
    " \n",
    "In the **concat** function call, we also replaced **\"world\"** literal, with the **name** constant."
   ]
  },
  {
   "cell_type": "markdown",
   "metadata": {},
   "source": [
    "#### Your turn \n",
    "\n",
    "Write a program, that would print \"Hello Alice\", using a **let**, a **print** and a **concat** statement.\n",
    "Oh, and try to use your memory, instead of a copy/paste 🙃"
   ]
  },
  {
   "cell_type": "code",
   "execution_count": null,
   "metadata": {},
   "outputs": [],
   "source": [
    ";; Your code here"
   ]
  },
  {
   "cell_type": "markdown",
   "metadata": {},
   "source": [
    "Did you end up with the value **0x48656c6c6f20416c696365**? Great! If you want to avoid comparing every single byte, you could use the following snippet, and expect the result to be **true**."
   ]
  },
  {
   "cell_type": "code",
   "execution_count": null,
   "metadata": {},
   "outputs": [],
   "source": [
    "(is-eq\n",
    "  ;; Previous snippet\n",
    "  0x48656c6c6f20416c696365)"
   ]
  },
  {
   "cell_type": "markdown",
   "metadata": {},
   "source": [
    "Let's go further: instead of \"Hello Alice\", let's display the result of the application of the hashing function **hash160** on \"Hello Alice\"."
   ]
  },
  {
   "cell_type": "code",
   "execution_count": null,
   "metadata": {
    "scrolled": true
   },
   "outputs": [],
   "source": [
    "(is-eq\n",
    "  ;; Your answer\n",
    "  0xc28134cc11b1056e62c6a1d8bf83c68d9504659b)"
   ]
  }
 ],
 "metadata": {
  "kernelspec": {
   "display_name": "Clarity",
   "language": "clarity",
   "name": "clarity"
  },
  "language_info": {
   "codemirror_mode": "clarity",
   "file_extension": ".clar",
   "mimetype": "text/clarity",
   "name": "Clarity",
   "pygment_lexer": "clarity",
   "version": ""
  }
 },
 "nbformat": 4,
 "nbformat_minor": 4
}
