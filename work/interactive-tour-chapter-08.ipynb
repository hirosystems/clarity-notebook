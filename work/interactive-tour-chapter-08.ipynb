{
 "cells": [
  {
   "cell_type": "markdown",
   "metadata": {},
   "source": [
    "# Clarity - Interactive Tour\n",
    "\n",
    "*Clarity is a **decidable** smart contract language that optimizes for predictability and security, designed by Blockstack. Smart contracts allow developers to encode essential business logic on a blockchain.*\n",
    "\n",
    "*This notebook is part of a suite of noteboooks, designed for helping developpers getting started with Clarity.*\n",
    "\n",
    "\n",
    "***\n",
    "**This notebook was designed for encouraging experimentation. Feel free to execute the snippets, tweak values, refactor with your own Clarity code.**\n",
    "***\n"
   ]
  },
  {
   "cell_type": "markdown",
   "metadata": {},
   "source": [
    "# Chapter 8 - Inter Contract Communication functions\n",
    "\n",
    "In this chapter, we will learn how contracts can safely dispatch inter contract calls and exchange data with other programs, statically and dynamically through the use of traits."
   ]
  }
 ],
 "metadata": {
  "kernelspec": {
   "display_name": "Clarity",
   "language": "clarity",
   "name": "clarity"
  },
  "language_info": {
   "codemirror_mode": "clarity",
   "file_extension": ".clar",
   "mimetype": "text/clarity",
   "name": "Clarity",
   "pygment_lexer": "clarity",
   "version": ""
  }
 },
 "nbformat": 4,
 "nbformat_minor": 4
}
